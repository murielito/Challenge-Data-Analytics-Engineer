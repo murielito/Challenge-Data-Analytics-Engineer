{
 "cells": [
  {
   "cell_type": "code",
   "execution_count": null,
   "id": "a13cfffb",
   "metadata": {},
   "outputs": [],
   "source": [
    "import pandas as pd\n",
    "import numpy as np\n",
    "import matplotlib.pyplot as plt\n",
    "import seaborn as sns"
   ]
  },
  {
   "cell_type": "code",
   "execution_count": null,
   "id": "89630c58",
   "metadata": {},
   "outputs": [],
   "source": [
    "df = pd.read_csv('df_challenge_meli.csv')"
   ]
  },
  {
   "cell_type": "code",
   "execution_count": null,
   "id": "82607daf",
   "metadata": {},
   "outputs": [],
   "source": [
    "df.head()"
   ]
  },
  {
   "cell_type": "code",
   "execution_count": null,
   "id": "5328a5e7",
   "metadata": {},
   "outputs": [],
   "source": [
    "#Verificar que haya cargado la cantidad de filas y columnas que vimos en el csv, en este caso 185250 filas y 14 columnas\n",
    "df.shape"
   ]
  },
  {
   "cell_type": "code",
   "execution_count": null,
   "id": "82b63c1e",
   "metadata": {},
   "outputs": [],
   "source": []
  }
 ],
 "metadata": {
  "kernelspec": {
   "display_name": "Python 3 (ipykernel)",
   "language": "python",
   "name": "python3"
  },
  "language_info": {
   "codemirror_mode": {
    "name": "ipython",
    "version": 3
   },
   "file_extension": ".py",
   "mimetype": "text/x-python",
   "name": "python",
   "nbconvert_exporter": "python",
   "pygments_lexer": "ipython3",
   "version": "3.9.13"
  }
 },
 "nbformat": 4,
 "nbformat_minor": 5
}
